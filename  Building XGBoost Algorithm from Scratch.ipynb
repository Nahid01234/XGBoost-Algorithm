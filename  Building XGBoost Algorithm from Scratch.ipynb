{
 "cells": [
  {
   "cell_type": "markdown",
   "id": "331b5021",
   "metadata": {},
   "source": [
    "## Importing Necessary Libraries"
   ]
  },
  {
   "cell_type": "code",
   "execution_count": 1,
   "id": "95d6dca9",
   "metadata": {},
   "outputs": [
    {
     "name": "stderr",
     "output_type": "stream",
     "text": [
      "C:\\Users\\HP\\AppData\\Roaming\\Python\\Python39\\site-packages\\pandas\\core\\computation\\expressions.py:21: UserWarning: Pandas requires version '2.8.4' or newer of 'numexpr' (version '2.8.3' currently installed).\n",
      "  from pandas.core.computation.check import NUMEXPR_INSTALLED\n",
      "C:\\Users\\HP\\AppData\\Roaming\\Python\\Python39\\site-packages\\pandas\\core\\arrays\\masked.py:60: UserWarning: Pandas requires version '1.3.6' or newer of 'bottleneck' (version '1.3.5' currently installed).\n",
      "  from pandas.core import (\n"
     ]
    }
   ],
   "source": [
    "import numpy as np\n",
    "import pandas as pd\n",
    "import matplotlib.pyplot as plt\n",
    "import seaborn as sns\n",
    "from sklearn.datasets import load_breast_cancer\n",
    "from sklearn.model_selection import train_test_split\n",
    "from sklearn.metrics import accuracy_score,classification_report,confusion_matrix\n",
    "import xgboost as xgb\n",
    "from xgboost import XGBClassifier"
   ]
  },
  {
   "cell_type": "markdown",
   "id": "9cf622bd",
   "metadata": {},
   "source": [
    "## Building XGBoost from Scratch"
   ]
  },
  {
   "cell_type": "code",
   "execution_count": 2,
   "id": "b98bdd50",
   "metadata": {},
   "outputs": [],
   "source": [
    "def XGB_model(X,y):\n",
    "    print(\"Spliting Datasets....\")\n",
    "    from sklearn.model_selection import train_test_split\n",
    "    np.random.seed(42)\n",
    "    X_train, X_test, y_train, y_test = train_test_split(X, y,test_size=0.2)\n",
    "    print(\"Successfully splitted!!!\")\n",
    "    \n",
    "    print(\"Model Fitting.....\")\n",
    "    xgb = XGBClassifier()\n",
    "    xgb.fit(X_train, y_train)\n",
    "    print(\"Successfully model fitted!!!\")\n",
    "\n",
    "    print(\"------------Training Prediction--------------\")\n",
    "    y_preds = xgb.predict(X_train)\n",
    "    print(f\"Classfifcation Report:\\n\\n{classification_report(y_train, y_preds)}\\n\\n\")\n",
    "\n",
    "    cf_matrix = confusion_matrix(y_train, y_preds)\n",
    "\n",
    "    fig, ax = plt.subplots(figsize=(6,4))\n",
    "    sns.heatmap(cf_matrix, annot=True, cmap='coolwarm', fmt='g')\n",
    "    fig.suptitle(t=\"Confusion Matrix\",\n",
    "                 color=\"orange\",\n",
    "                 fontsize=16);\n",
    "    ax.set(xlabel=\"Predicted Label\",\n",
    "           ylabel=\"Actual Label\");\n",
    "\n",
    "    print(f\"Accuracy Score:\\n\\n{accuracy_score(y_train, y_preds)*100:2f}%\\n\")\n",
    "\n",
    "    print(\"------------Test Prediction--------------\")\n",
    "\n",
    "    y_preds = xgb.predict(X_test)\n",
    "    print(f\"Classfifcation Report:\\n\\n{classification_report(y_test, y_preds)}\\n\\n\")\n",
    "\n",
    "    cf_matrix = confusion_matrix(y_test, y_preds)\n",
    "\n",
    "    fig, ax = plt.subplots(figsize=(6,4))\n",
    "    sns.heatmap(cf_matrix, annot=True, cmap='coolwarm', fmt='g')\n",
    "    fig.suptitle(t=\"Confusion Matrix\",\n",
    "                 color=\"orange\",\n",
    "                 fontsize=16);\n",
    "    ax.set(xlabel=\"Predicted Label\",\n",
    "           ylabel=\"Actual Label\");\n",
    "\n",
    "    print(f\"Accuracy Score:\\n\\n{accuracy_score(y_test, y_preds)*100:2f}%\\n\")"
   ]
  },
  {
   "cell_type": "code",
   "execution_count": 3,
   "id": "b9367631",
   "metadata": {},
   "outputs": [],
   "source": [
    "df=pd.read_csv(\"diabetes1.csv\")"
   ]
  },
  {
   "cell_type": "code",
   "execution_count": 4,
   "id": "ced4651c",
   "metadata": {},
   "outputs": [
    {
     "data": {
      "text/html": [
       "<div>\n",
       "<style scoped>\n",
       "    .dataframe tbody tr th:only-of-type {\n",
       "        vertical-align: middle;\n",
       "    }\n",
       "\n",
       "    .dataframe tbody tr th {\n",
       "        vertical-align: top;\n",
       "    }\n",
       "\n",
       "    .dataframe thead th {\n",
       "        text-align: right;\n",
       "    }\n",
       "</style>\n",
       "<table border=\"1\" class=\"dataframe\">\n",
       "  <thead>\n",
       "    <tr style=\"text-align: right;\">\n",
       "      <th></th>\n",
       "      <th>Pregnancies</th>\n",
       "      <th>Glucose</th>\n",
       "      <th>BloodPressure</th>\n",
       "      <th>SkinThickness</th>\n",
       "      <th>Insulin</th>\n",
       "      <th>BMI</th>\n",
       "      <th>DiabetesPedigreeFunction</th>\n",
       "      <th>Age</th>\n",
       "      <th>Outcome</th>\n",
       "    </tr>\n",
       "  </thead>\n",
       "  <tbody>\n",
       "    <tr>\n",
       "      <th>0</th>\n",
       "      <td>6</td>\n",
       "      <td>148</td>\n",
       "      <td>72</td>\n",
       "      <td>35</td>\n",
       "      <td>0</td>\n",
       "      <td>33.6</td>\n",
       "      <td>0.627</td>\n",
       "      <td>50</td>\n",
       "      <td>1</td>\n",
       "    </tr>\n",
       "    <tr>\n",
       "      <th>1</th>\n",
       "      <td>1</td>\n",
       "      <td>85</td>\n",
       "      <td>66</td>\n",
       "      <td>29</td>\n",
       "      <td>0</td>\n",
       "      <td>26.6</td>\n",
       "      <td>0.351</td>\n",
       "      <td>31</td>\n",
       "      <td>0</td>\n",
       "    </tr>\n",
       "    <tr>\n",
       "      <th>2</th>\n",
       "      <td>8</td>\n",
       "      <td>183</td>\n",
       "      <td>64</td>\n",
       "      <td>0</td>\n",
       "      <td>0</td>\n",
       "      <td>23.3</td>\n",
       "      <td>0.672</td>\n",
       "      <td>32</td>\n",
       "      <td>1</td>\n",
       "    </tr>\n",
       "    <tr>\n",
       "      <th>3</th>\n",
       "      <td>1</td>\n",
       "      <td>89</td>\n",
       "      <td>66</td>\n",
       "      <td>23</td>\n",
       "      <td>94</td>\n",
       "      <td>28.1</td>\n",
       "      <td>0.167</td>\n",
       "      <td>21</td>\n",
       "      <td>0</td>\n",
       "    </tr>\n",
       "    <tr>\n",
       "      <th>4</th>\n",
       "      <td>0</td>\n",
       "      <td>137</td>\n",
       "      <td>40</td>\n",
       "      <td>35</td>\n",
       "      <td>168</td>\n",
       "      <td>43.1</td>\n",
       "      <td>2.288</td>\n",
       "      <td>33</td>\n",
       "      <td>1</td>\n",
       "    </tr>\n",
       "  </tbody>\n",
       "</table>\n",
       "</div>"
      ],
      "text/plain": [
       "   Pregnancies  Glucose  BloodPressure  SkinThickness  Insulin   BMI  \\\n",
       "0            6      148             72             35        0  33.6   \n",
       "1            1       85             66             29        0  26.6   \n",
       "2            8      183             64              0        0  23.3   \n",
       "3            1       89             66             23       94  28.1   \n",
       "4            0      137             40             35      168  43.1   \n",
       "\n",
       "   DiabetesPedigreeFunction  Age  Outcome  \n",
       "0                     0.627   50        1  \n",
       "1                     0.351   31        0  \n",
       "2                     0.672   32        1  \n",
       "3                     0.167   21        0  \n",
       "4                     2.288   33        1  "
      ]
     },
     "execution_count": 4,
     "metadata": {},
     "output_type": "execute_result"
    }
   ],
   "source": [
    "df.head()"
   ]
  },
  {
   "cell_type": "code",
   "execution_count": 5,
   "id": "6ea79475",
   "metadata": {},
   "outputs": [],
   "source": [
    "X=df.drop(columns=[\"Outcome\"])\n",
    "y=df[\"Outcome\"]"
   ]
  },
  {
   "cell_type": "code",
   "execution_count": 6,
   "id": "4552af2d",
   "metadata": {},
   "outputs": [
    {
     "name": "stdout",
     "output_type": "stream",
     "text": [
      "Spliting Datasets....\n",
      "Successfully splitted!!!\n",
      "Model Fitting.....\n",
      "Successfully model fitted!!!\n",
      "------------Training Prediction--------------\n",
      "Classfifcation Report:\n",
      "\n",
      "              precision    recall  f1-score   support\n",
      "\n",
      "           0       1.00      1.00      1.00       401\n",
      "           1       1.00      1.00      1.00       213\n",
      "\n",
      "    accuracy                           1.00       614\n",
      "   macro avg       1.00      1.00      1.00       614\n",
      "weighted avg       1.00      1.00      1.00       614\n",
      "\n",
      "\n",
      "\n",
      "Accuracy Score:\n",
      "\n",
      "100.000000%\n",
      "\n",
      "------------Test Prediction--------------\n",
      "Classfifcation Report:\n",
      "\n",
      "              precision    recall  f1-score   support\n",
      "\n",
      "           0       0.79      0.74      0.76        99\n",
      "           1       0.58      0.65      0.62        55\n",
      "\n",
      "    accuracy                           0.71       154\n",
      "   macro avg       0.69      0.70      0.69       154\n",
      "weighted avg       0.72      0.71      0.71       154\n",
      "\n",
      "\n",
      "\n",
      "Accuracy Score:\n",
      "\n",
      "70.779221%\n",
      "\n"
     ]
    },
    {
     "data": {
      "image/png": "[encoded data removed]",
      "text/plain": [
       "<Figure size 600x400 with 2 Axes>"
      ]
     },
     "metadata": {},
     "output_type": "display_data"
    },
    {
     "data": {
      "image/png": "[encoded data removed]",
      "text/plain": [
       "<Figure size 600x400 with 2 Axes>"
      ]
     },
     "metadata": {},
     "output_type": "display_data"
    }
   ],
   "source": [
    "XGB_model(X,y)"
   ]
  },
  {
   "cell_type": "code",
   "execution_count": null,
   "id": "622aa9e5",
   "metadata": {},
   "outputs": [],
   "source": []
  }
 ],
 "metadata": {
  "kernelspec": {
   "display_name": "Python 3 (ipykernel)",
   "language": "python",
   "name": "python3"
  },
  "language_info": {
   "codemirror_mode": {
    "name": "ipython",
    "version": 3
   },
   "file_extension": ".py",
   "mimetype": "text/x-python",
   "name": "python",
   "nbconvert_exporter": "python",
   "pygments_lexer": "ipython3",
   "version": "3.9.13"
  }
 },
 "nbformat": 4,
 "nbformat_minor": 5
}
