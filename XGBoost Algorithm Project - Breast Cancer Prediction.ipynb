{
 "cells": [
  {
   "cell_type": "markdown",
   "id": "53618492",
   "metadata": {},
   "source": [
    "## Importing Necessary Libraries"
   ]
  },
  {
   "cell_type": "code",
   "execution_count": 1,
   "id": "fa914dd8",
   "metadata": {},
   "outputs": [
    {
     "name": "stderr",
     "output_type": "stream",
     "text": [
      "C:\\Users\\HP\\AppData\\Roaming\\Python\\Python39\\site-packages\\pandas\\core\\computation\\expressions.py:21: UserWarning: Pandas requires version '2.8.4' or newer of 'numexpr' (version '2.8.3' currently installed).\n",
      "  from pandas.core.computation.check import NUMEXPR_INSTALLED\n",
      "C:\\Users\\HP\\AppData\\Roaming\\Python\\Python39\\site-packages\\pandas\\core\\arrays\\masked.py:60: UserWarning: Pandas requires version '1.3.6' or newer of 'bottleneck' (version '1.3.5' currently installed).\n",
      "  from pandas.core import (\n"
     ]
    }
   ],
   "source": [
    "import numpy as np\n",
    "import pandas as pd\n",
    "import matplotlib.pyplot as plt\n",
    "import seaborn as sns\n",
    "from sklearn.datasets import load_breast_cancer\n",
    "from sklearn.model_selection import train_test_split\n",
    "from sklearn.metrics import accuracy_score,classification_report,confusion_matrix\n",
    "import xgboost as xgb\n",
    "from xgboost import XGBClassifier"
   ]
  },
  {
   "cell_type": "code",
   "execution_count": 2,
   "id": "d1babcba",
   "metadata": {},
   "outputs": [
    {
     "name": "stdout",
     "output_type": "stream",
     "text": [
      "[0]\tvalidation_0-logloss:0.45997\n",
      "[1]\tvalidation_0-logloss:0.34184\n",
      "[2]\tvalidation_0-logloss:0.27076\n",
      "[3]\tvalidation_0-logloss:0.22399\n",
      "[4]\tvalidation_0-logloss:0.19346\n",
      "[5]\tvalidation_0-logloss:0.16814\n",
      "[6]\tvalidation_0-logloss:0.15393\n",
      "[7]\tvalidation_0-logloss:0.14081\n",
      "[8]\tvalidation_0-logloss:0.13269\n",
      "[9]\tvalidation_0-logloss:0.12515\n",
      "[10]\tvalidation_0-logloss:0.11551\n",
      "[11]\tvalidation_0-logloss:0.11184\n",
      "[12]\tvalidation_0-logloss:0.10799\n",
      "[13]\tvalidation_0-logloss:0.10541\n",
      "[14]\tvalidation_0-logloss:0.10493\n",
      "[15]\tvalidation_0-logloss:0.10326\n",
      "[16]\tvalidation_0-logloss:0.10300\n",
      "[17]\tvalidation_0-logloss:0.10339\n",
      "[18]\tvalidation_0-logloss:0.10160\n",
      "[19]\tvalidation_0-logloss:0.09892\n",
      "[20]\tvalidation_0-logloss:0.09478\n",
      "[21]\tvalidation_0-logloss:0.09359\n",
      "[22]\tvalidation_0-logloss:0.09247\n",
      "[23]\tvalidation_0-logloss:0.09284\n",
      "[24]\tvalidation_0-logloss:0.09266\n"
     ]
    }
   ],
   "source": [
    "X, y = load_breast_cancer(return_X_y=True)\n",
    "X_train, X_test, y_train, y_test = train_test_split(X, y, stratify=y, random_state=94)\n",
    "\n",
    "# Use \"hist\" for constructing the trees, with early stopping enabled.\n",
    "clf = xgb.XGBClassifier(tree_method=\"hist\", early_stopping_rounds=2)\n",
    "# Fit the model, test sets are used for early stopping.\n",
    "clf.fit(X_train, y_train, eval_set=[(X_test, y_test)])\n",
    "# Save model into JSON format.\n",
    "clf.save_model(\"clf.json\")"
   ]
  },
  {
   "cell_type": "code",
   "execution_count": 3,
   "id": "74e2e965",
   "metadata": {},
   "outputs": [
    {
     "name": "stdout",
     "output_type": "stream",
     "text": [
      "[0]\tvalidation_0-logloss:0.45997\n",
      "[1]\tvalidation_0-logloss:0.34184\n",
      "[2]\tvalidation_0-logloss:0.27076\n",
      "[3]\tvalidation_0-logloss:0.22399\n",
      "[4]\tvalidation_0-logloss:0.19346\n",
      "[5]\tvalidation_0-logloss:0.16814\n",
      "[6]\tvalidation_0-logloss:0.15393\n",
      "[7]\tvalidation_0-logloss:0.14081\n",
      "[8]\tvalidation_0-logloss:0.13269\n",
      "[9]\tvalidation_0-logloss:0.12515\n",
      "[10]\tvalidation_0-logloss:0.11551\n",
      "[11]\tvalidation_0-logloss:0.11184\n",
      "[12]\tvalidation_0-logloss:0.10799\n",
      "[13]\tvalidation_0-logloss:0.10541\n",
      "[14]\tvalidation_0-logloss:0.10493\n",
      "[15]\tvalidation_0-logloss:0.10326\n",
      "[16]\tvalidation_0-logloss:0.10300\n",
      "[17]\tvalidation_0-logloss:0.10339\n",
      "[18]\tvalidation_0-logloss:0.10160\n",
      "[19]\tvalidation_0-logloss:0.09892\n",
      "[20]\tvalidation_0-logloss:0.09478\n",
      "[21]\tvalidation_0-logloss:0.09359\n",
      "[22]\tvalidation_0-logloss:0.09247\n",
      "[23]\tvalidation_0-logloss:0.09284\n"
     ]
    },
    {
     "data": {
      "text/plain": [
       "XGBClassifier(base_score=None, booster=None,\n",
       "              callbacks=[<xgboost.callback.EarlyStopping object at 0x00000234B1D74490>],\n",
       "              colsample_bylevel=None, colsample_bynode=None,\n",
       "              colsample_bytree=None, device=None, early_stopping_rounds=None,\n",
       "              enable_categorical=False, eval_metric=None, feature_types=None,\n",
       "              gamma=None, grow_policy=None, importance_type=None,\n",
       "              interaction_constraints=None, learning_rate=None, max_bin=None,\n",
       "              max_cat_threshold=None, max_cat_to_onehot=None,\n",
       "              max_delta_step=None, max_depth=None, max_leaves=None,\n",
       "              min_child_weight=None, missing=nan, monotone_constraints=None,\n",
       "              multi_strategy=None, n_estimators=None, n_jobs=None,\n",
       "              num_parallel_tree=None, random_state=None, ...)"
      ]
     },
     "execution_count": 3,
     "metadata": {},
     "output_type": "execute_result"
    }
   ],
   "source": [
    "early_stop = xgb.callback.EarlyStopping(\n",
    "    rounds=2, metric_name='logloss', data_name='validation_0', save_best=True\n",
    ")\n",
    "clf = xgb.XGBClassifier(tree_method=\"hist\", callbacks=[early_stop])\n",
    "clf.fit(X_train, y_train, eval_set=[(X_test, y_test)])"
   ]
  },
  {
   "cell_type": "code",
   "execution_count": 4,
   "id": "cbe62c45",
   "metadata": {},
   "outputs": [],
   "source": [
    "y_pred=clf.predict(X_test)"
   ]
  },
  {
   "cell_type": "code",
   "execution_count": 5,
   "id": "4d4c9350",
   "metadata": {},
   "outputs": [
    {
     "data": {
      "text/plain": [
       "0.965034965034965"
      ]
     },
     "execution_count": 5,
     "metadata": {},
     "output_type": "execute_result"
    }
   ],
   "source": [
    "accuracy_score(y_pred,y_test)"
   ]
  },
  {
   "cell_type": "code",
   "execution_count": 6,
   "id": "942a4d60",
   "metadata": {},
   "outputs": [
    {
     "data": {
      "image/png": "[encoded data removed]",
      "text/plain": [
       "<Figure size 600x400 with 2 Axes>"
      ]
     },
     "metadata": {},
     "output_type": "display_data"
    }
   ],
   "source": [
    "cf_matrix=confusion_matrix(y_pred,y_test)\n",
    "fig, ax = plt.subplots(figsize=(6,4))\n",
    "sns.heatmap(cf_matrix, annot=True, cmap='coolwarm', fmt='g')\n",
    "fig.suptitle(t=\"Confusion Matrix\",\n",
    "                 color=\"orange\",\n",
    "                 fontsize=16);\n",
    "ax.set(xlabel=\"Predicted Label\",\n",
    "           ylabel=\"Actual Label\");"
   ]
  },
  {
   "cell_type": "code",
   "execution_count": null,
   "id": "af5e6914",
   "metadata": {},
   "outputs": [],
   "source": []
  }
 ],
 "metadata": {
  "kernelspec": {
   "display_name": "Python 3 (ipykernel)",
   "language": "python",
   "name": "python3"
  },
  "language_info": {
   "codemirror_mode": {
    "name": "ipython",
    "version": 3
   },
   "file_extension": ".py",
   "mimetype": "text/x-python",
   "name": "python",
   "nbconvert_exporter": "python",
   "pygments_lexer": "ipython3",
   "version": "3.9.13"
  }
 },
 "nbformat": 4,
 "nbformat_minor": 5
}
